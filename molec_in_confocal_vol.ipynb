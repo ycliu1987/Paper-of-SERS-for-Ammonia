{
 "cells": [
  {
   "cell_type": "markdown",
   "metadata": {},
   "source": [
    "## Show the correlation between concentration unit p.p.m and mol/L\n",
    "https://web.viu.ca/krogh/chem311/units%20of%20concentration.pdf"
   ]
  },
  {
   "cell_type": "code",
   "execution_count": 1,
   "metadata": {},
   "outputs": [],
   "source": [
    "from scipy import constants\n",
    "import numpy as np\n",
    "import pandas as pd"
   ]
  },
  {
   "cell_type": "code",
   "execution_count": 2,
   "metadata": {},
   "outputs": [],
   "source": [
    "rou_h2o = 1.0 * 10**3 # water density in g/L\n",
    "mm_nh3= 17.031 # molor mass of ammonia in g/mol"
   ]
  },
  {
   "cell_type": "markdown",
   "metadata": {},
   "source": [
    "### # Input the p.p.m values"
   ]
  },
  {
   "cell_type": "code",
   "execution_count": 3,
   "metadata": {},
   "outputs": [],
   "source": [
    "l_ppm = np.array([ 0.001, 0.01, 0.05, 0.1, 0.5, 1, 2]) # input parts per million based on mass"
   ]
  },
  {
   "cell_type": "markdown",
   "metadata": {},
   "source": [
    "### # Calcylate the other units"
   ]
  },
  {
   "cell_type": "code",
   "execution_count": 4,
   "metadata": {},
   "outputs": [],
   "source": [
    "l_ppb = l_ppm * 1000  # p.p.b\n",
    "l_mg2l = l_ppm * 10**(-6)  *rou_h2o *1000 # in mg/L\n",
    "l_wt  = l_ppm * 10**(-6) * 100 # weight percent\n",
    "l_um2l   = l_mg2l /1000 / mm_nh3 *10**6 # umol/L\n",
    "\n",
    "l_num = l_um2l/10**6*constants.N_A # molec/L"
   ]
  },
  {
   "cell_type": "markdown",
   "metadata": {},
   "source": [
    "### Confocal volume of Raman beam"
   ]
  },
  {
   "cell_type": "code",
   "execution_count": 5,
   "metadata": {},
   "outputs": [
    {
     "data": {
      "text/plain": [
       "5.568327996831708"
      ]
     },
     "execution_count": 5,
     "metadata": {},
     "output_type": "execute_result"
    }
   ],
   "source": [
    "constants.pi**(3/2)"
   ]
  },
  {
   "cell_type": "code",
   "execution_count": 6,
   "metadata": {},
   "outputs": [
    {
     "name": "stdout",
     "output_type": "stream",
     "text": [
      "1756923489.8336713\n",
      "[62.12459961440197 621.2459961440196 3106.229980720098 6212.459961440196\n",
      " 31062.29980720098 62124.59961440196 124249.19922880392]\n"
     ]
    }
   ],
   "source": [
    "# http://www.fcsxpert.com/classroom/theory/what-is-confocal-volume.html\n",
    "n=1.3\n",
    "NA=1.2\n",
    "K = 2.33*n/NA\n",
    "w = 500 # beam waist in nm\n",
    "\n",
    "V_confocal = constants.pi**(3/2)*K*w**3 # in nm3\n",
    "N_confocal = l_num*V_confocal/10**24\n",
    "\n",
    "print(V_confocal)\n",
    "print(N_confocal)"
   ]
  },
  {
   "cell_type": "markdown",
   "metadata": {},
   "source": [
    "### # Show tables"
   ]
  },
  {
   "cell_type": "code",
   "execution_count": 7,
   "metadata": {},
   "outputs": [
    {
     "data": {
      "text/html": [
       "<style  type=\"text/css\" >\n",
       "</style><table id=\"T_51e7e64c_124d_11eb_91d8_7c7a91e9a0f1\" ><thead>    <tr>        <th class=\"col_heading level0 col0\" >p.p.b</th>        <th class=\"col_heading level0 col1\" >p.p.m</th>        <th class=\"col_heading level0 col2\" >mg/L</th>        <th class=\"col_heading level0 col3\" >umol/L</th>        <th class=\"col_heading level0 col4\" >wt%</th>        <th class=\"col_heading level0 col5\" >molecules</th>    </tr></thead><tbody>\n",
       "                <tr>\n",
       "                                <td id=\"T_51e7e64c_124d_11eb_91d8_7c7a91e9a0f1row0_col0\" class=\"data row0 col0\" >1.000000</td>\n",
       "                        <td id=\"T_51e7e64c_124d_11eb_91d8_7c7a91e9a0f1row0_col1\" class=\"data row0 col1\" >0.001000</td>\n",
       "                        <td id=\"T_51e7e64c_124d_11eb_91d8_7c7a91e9a0f1row0_col2\" class=\"data row0 col2\" >0.001000</td>\n",
       "                        <td id=\"T_51e7e64c_124d_11eb_91d8_7c7a91e9a0f1row0_col3\" class=\"data row0 col3\" >0.058716</td>\n",
       "                        <td id=\"T_51e7e64c_124d_11eb_91d8_7c7a91e9a0f1row0_col4\" class=\"data row0 col4\" >0.000000</td>\n",
       "                        <td id=\"T_51e7e64c_124d_11eb_91d8_7c7a91e9a0f1row0_col5\" class=\"data row0 col5\" >62.124600</td>\n",
       "            </tr>\n",
       "            <tr>\n",
       "                                <td id=\"T_51e7e64c_124d_11eb_91d8_7c7a91e9a0f1row1_col0\" class=\"data row1 col0\" >10.000000</td>\n",
       "                        <td id=\"T_51e7e64c_124d_11eb_91d8_7c7a91e9a0f1row1_col1\" class=\"data row1 col1\" >0.010000</td>\n",
       "                        <td id=\"T_51e7e64c_124d_11eb_91d8_7c7a91e9a0f1row1_col2\" class=\"data row1 col2\" >0.010000</td>\n",
       "                        <td id=\"T_51e7e64c_124d_11eb_91d8_7c7a91e9a0f1row1_col3\" class=\"data row1 col3\" >0.587165</td>\n",
       "                        <td id=\"T_51e7e64c_124d_11eb_91d8_7c7a91e9a0f1row1_col4\" class=\"data row1 col4\" >0.000001</td>\n",
       "                        <td id=\"T_51e7e64c_124d_11eb_91d8_7c7a91e9a0f1row1_col5\" class=\"data row1 col5\" >621.245996</td>\n",
       "            </tr>\n",
       "            <tr>\n",
       "                                <td id=\"T_51e7e64c_124d_11eb_91d8_7c7a91e9a0f1row2_col0\" class=\"data row2 col0\" >50.000000</td>\n",
       "                        <td id=\"T_51e7e64c_124d_11eb_91d8_7c7a91e9a0f1row2_col1\" class=\"data row2 col1\" >0.050000</td>\n",
       "                        <td id=\"T_51e7e64c_124d_11eb_91d8_7c7a91e9a0f1row2_col2\" class=\"data row2 col2\" >0.050000</td>\n",
       "                        <td id=\"T_51e7e64c_124d_11eb_91d8_7c7a91e9a0f1row2_col3\" class=\"data row2 col3\" >2.935823</td>\n",
       "                        <td id=\"T_51e7e64c_124d_11eb_91d8_7c7a91e9a0f1row2_col4\" class=\"data row2 col4\" >0.000005</td>\n",
       "                        <td id=\"T_51e7e64c_124d_11eb_91d8_7c7a91e9a0f1row2_col5\" class=\"data row2 col5\" >3106.229981</td>\n",
       "            </tr>\n",
       "            <tr>\n",
       "                                <td id=\"T_51e7e64c_124d_11eb_91d8_7c7a91e9a0f1row3_col0\" class=\"data row3 col0\" >100.000000</td>\n",
       "                        <td id=\"T_51e7e64c_124d_11eb_91d8_7c7a91e9a0f1row3_col1\" class=\"data row3 col1\" >0.100000</td>\n",
       "                        <td id=\"T_51e7e64c_124d_11eb_91d8_7c7a91e9a0f1row3_col2\" class=\"data row3 col2\" >0.100000</td>\n",
       "                        <td id=\"T_51e7e64c_124d_11eb_91d8_7c7a91e9a0f1row3_col3\" class=\"data row3 col3\" >5.871646</td>\n",
       "                        <td id=\"T_51e7e64c_124d_11eb_91d8_7c7a91e9a0f1row3_col4\" class=\"data row3 col4\" >0.000010</td>\n",
       "                        <td id=\"T_51e7e64c_124d_11eb_91d8_7c7a91e9a0f1row3_col5\" class=\"data row3 col5\" >6212.459961</td>\n",
       "            </tr>\n",
       "            <tr>\n",
       "                                <td id=\"T_51e7e64c_124d_11eb_91d8_7c7a91e9a0f1row4_col0\" class=\"data row4 col0\" >500.000000</td>\n",
       "                        <td id=\"T_51e7e64c_124d_11eb_91d8_7c7a91e9a0f1row4_col1\" class=\"data row4 col1\" >0.500000</td>\n",
       "                        <td id=\"T_51e7e64c_124d_11eb_91d8_7c7a91e9a0f1row4_col2\" class=\"data row4 col2\" >0.500000</td>\n",
       "                        <td id=\"T_51e7e64c_124d_11eb_91d8_7c7a91e9a0f1row4_col3\" class=\"data row4 col3\" >29.358229</td>\n",
       "                        <td id=\"T_51e7e64c_124d_11eb_91d8_7c7a91e9a0f1row4_col4\" class=\"data row4 col4\" >0.000050</td>\n",
       "                        <td id=\"T_51e7e64c_124d_11eb_91d8_7c7a91e9a0f1row4_col5\" class=\"data row4 col5\" >31062.299807</td>\n",
       "            </tr>\n",
       "            <tr>\n",
       "                                <td id=\"T_51e7e64c_124d_11eb_91d8_7c7a91e9a0f1row5_col0\" class=\"data row5 col0\" >1000.000000</td>\n",
       "                        <td id=\"T_51e7e64c_124d_11eb_91d8_7c7a91e9a0f1row5_col1\" class=\"data row5 col1\" >1.000000</td>\n",
       "                        <td id=\"T_51e7e64c_124d_11eb_91d8_7c7a91e9a0f1row5_col2\" class=\"data row5 col2\" >1.000000</td>\n",
       "                        <td id=\"T_51e7e64c_124d_11eb_91d8_7c7a91e9a0f1row5_col3\" class=\"data row5 col3\" >58.716458</td>\n",
       "                        <td id=\"T_51e7e64c_124d_11eb_91d8_7c7a91e9a0f1row5_col4\" class=\"data row5 col4\" >0.000100</td>\n",
       "                        <td id=\"T_51e7e64c_124d_11eb_91d8_7c7a91e9a0f1row5_col5\" class=\"data row5 col5\" >62124.599614</td>\n",
       "            </tr>\n",
       "            <tr>\n",
       "                                <td id=\"T_51e7e64c_124d_11eb_91d8_7c7a91e9a0f1row6_col0\" class=\"data row6 col0\" >2000.000000</td>\n",
       "                        <td id=\"T_51e7e64c_124d_11eb_91d8_7c7a91e9a0f1row6_col1\" class=\"data row6 col1\" >2.000000</td>\n",
       "                        <td id=\"T_51e7e64c_124d_11eb_91d8_7c7a91e9a0f1row6_col2\" class=\"data row6 col2\" >2.000000</td>\n",
       "                        <td id=\"T_51e7e64c_124d_11eb_91d8_7c7a91e9a0f1row6_col3\" class=\"data row6 col3\" >117.432916</td>\n",
       "                        <td id=\"T_51e7e64c_124d_11eb_91d8_7c7a91e9a0f1row6_col4\" class=\"data row6 col4\" >0.000200</td>\n",
       "                        <td id=\"T_51e7e64c_124d_11eb_91d8_7c7a91e9a0f1row6_col5\" class=\"data row6 col5\" >124249.199229</td>\n",
       "            </tr>\n",
       "    </tbody></table>"
      ],
      "text/plain": [
       "<pandas.io.formats.style.Styler at 0x14dc17e98b0>"
      ]
     },
     "execution_count": 7,
     "metadata": {},
     "output_type": "execute_result"
    }
   ],
   "source": [
    "data = np.array([l_ppb, l_ppm, l_mg2l, l_um2l, l_wt, N_confocal]).transpose()\n",
    "df = pd.DataFrame(data, columns = ['p.p.b', 'p.p.m', 'mg/L', 'umol/L', 'wt%', 'molecules'])\n",
    "df.style.hide_index()"
   ]
  },
  {
   "cell_type": "code",
   "execution_count": null,
   "metadata": {},
   "outputs": [],
   "source": []
  }
 ],
 "metadata": {
  "kernelspec": {
   "display_name": "Python 3",
   "language": "python",
   "name": "python3"
  },
  "language_info": {
   "codemirror_mode": {
    "name": "ipython",
    "version": 3
   },
   "file_extension": ".py",
   "mimetype": "text/x-python",
   "name": "python",
   "nbconvert_exporter": "python",
   "pygments_lexer": "ipython3",
   "version": "3.8.3"
  }
 },
 "nbformat": 4,
 "nbformat_minor": 4
}
